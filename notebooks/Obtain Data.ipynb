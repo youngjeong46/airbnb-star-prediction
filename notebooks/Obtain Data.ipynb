{
 "cells": [
  {
   "cell_type": "code",
   "execution_count": 1,
   "metadata": {},
   "outputs": [],
   "source": [
    "import pandas as pd\n",
    "import seaborn as sns"
   ]
  },
  {
   "cell_type": "code",
   "execution_count": 2,
   "metadata": {},
   "outputs": [],
   "source": [
    "df = pd.read_csv('listings.csv',delimiter=',',low_memory=False)"
   ]
  },
  {
   "cell_type": "code",
   "execution_count": 3,
   "metadata": {},
   "outputs": [
    {
     "data": {
      "text/plain": [
       "(8459, 106)"
      ]
     },
     "execution_count": 3,
     "metadata": {},
     "output_type": "execute_result"
    }
   ],
   "source": [
    "df.shape"
   ]
  },
  {
   "cell_type": "code",
   "execution_count": 16,
   "metadata": {},
   "outputs": [],
   "source": [
    "df_2 = df[['host_since','host_response_time','host_response_rate','host_total_listings_count'\n",
    "           ,'host_verifications','host_has_profile_pic','host_identity_verified',\n",
    "           'neighbourhood_cleansed','zipcode','latitude','longitude',\n",
    "           'room_type','bathrooms','bedrooms','beds','bed_type','amenities','price',\n",
    "           'security_deposit','cleaning_fee','extra_people','minimum_nights',\n",
    "           'calendar_updated','availability_30','availability_90','cancellation_policy',\n",
    "           'reviews_per_month','review_scores_rating']]"
   ]
  },
  {
   "cell_type": "code",
   "execution_count": 17,
   "metadata": {},
   "outputs": [
    {
     "name": "stdout",
     "output_type": "stream",
     "text": [
      "<class 'pandas.core.frame.DataFrame'>\n",
      "RangeIndex: 8459 entries, 0 to 8458\n",
      "Data columns (total 28 columns):\n",
      "host_since                   8459 non-null object\n",
      "host_response_time           6505 non-null object\n",
      "host_response_rate           6505 non-null object\n",
      "host_total_listings_count    8459 non-null int64\n",
      "host_verifications           8459 non-null object\n",
      "host_has_profile_pic         8459 non-null object\n",
      "host_identity_verified       8459 non-null object\n",
      "neighbourhood_cleansed       8459 non-null object\n",
      "zipcode                      8383 non-null float64\n",
      "latitude                     8459 non-null float64\n",
      "longitude                    8459 non-null float64\n",
      "room_type                    8459 non-null object\n",
      "bathrooms                    8456 non-null float64\n",
      "bedrooms                     8459 non-null int64\n",
      "beds                         8458 non-null float64\n",
      "bed_type                     8459 non-null object\n",
      "amenities                    8459 non-null object\n",
      "price                        8459 non-null object\n",
      "security_deposit             6647 non-null object\n",
      "cleaning_fee                 7533 non-null object\n",
      "extra_people                 8459 non-null object\n",
      "minimum_nights               8459 non-null int64\n",
      "calendar_updated             8459 non-null object\n",
      "availability_30              8459 non-null int64\n",
      "availability_90              8459 non-null int64\n",
      "cancellation_policy          8459 non-null object\n",
      "reviews_per_month            7505 non-null float64\n",
      "review_scores_rating         7436 non-null float64\n",
      "dtypes: float64(7), int64(5), object(16)\n",
      "memory usage: 1.8+ MB\n"
     ]
    }
   ],
   "source": [
    "df_2.info()"
   ]
  },
  {
   "cell_type": "code",
   "execution_count": 18,
   "metadata": {},
   "outputs": [
    {
     "data": {
      "text/plain": [
       "100.0    1808\n",
       "98.0      949\n",
       "99.0      834\n",
       "97.0      764\n",
       "96.0      618\n",
       "95.0      486\n",
       "93.0      379\n",
       "94.0      314\n",
       "90.0      233\n",
       "92.0      193\n",
       "91.0      158\n",
       "80.0      145\n",
       "89.0       97\n",
       "88.0       86\n",
       "87.0       83\n",
       "85.0       51\n",
       "86.0       35\n",
       "60.0       34\n",
       "83.0       26\n",
       "84.0       25\n",
       "73.0       16\n",
       "70.0       16\n",
       "82.0       10\n",
       "76.0        9\n",
       "81.0        9\n",
       "75.0        7\n",
       "20.0        6\n",
       "40.0        6\n",
       "79.0        6\n",
       "77.0        6\n",
       "78.0        5\n",
       "67.0        5\n",
       "65.0        4\n",
       "71.0        4\n",
       "74.0        3\n",
       "69.0        2\n",
       "53.0        1\n",
       "72.0        1\n",
       "50.0        1\n",
       "68.0        1\n",
       "Name: review_scores_rating, dtype: int64"
      ]
     },
     "execution_count": 18,
     "metadata": {},
     "output_type": "execute_result"
    }
   ],
   "source": [
    "df_2.review_scores_rating.value_counts()"
   ]
  },
  {
   "cell_type": "code",
   "execution_count": 19,
   "metadata": {},
   "outputs": [],
   "source": [
    "df_geo = df_2[[\"latitude\",\"longitude\"]]"
   ]
  },
  {
   "cell_type": "code",
   "execution_count": 20,
   "metadata": {},
   "outputs": [
    {
     "data": {
      "text/html": [
       "<div>\n",
       "<style scoped>\n",
       "    .dataframe tbody tr th:only-of-type {\n",
       "        vertical-align: middle;\n",
       "    }\n",
       "\n",
       "    .dataframe tbody tr th {\n",
       "        vertical-align: top;\n",
       "    }\n",
       "\n",
       "    .dataframe thead th {\n",
       "        text-align: right;\n",
       "    }\n",
       "</style>\n",
       "<table border=\"1\" class=\"dataframe\">\n",
       "  <thead>\n",
       "    <tr style=\"text-align: right;\">\n",
       "      <th></th>\n",
       "      <th>latitude</th>\n",
       "      <th>longitude</th>\n",
       "    </tr>\n",
       "  </thead>\n",
       "  <tbody>\n",
       "    <tr>\n",
       "      <th>0</th>\n",
       "      <td>47.610819</td>\n",
       "      <td>-122.290816</td>\n",
       "    </tr>\n",
       "    <tr>\n",
       "      <th>1</th>\n",
       "      <td>47.687801</td>\n",
       "      <td>-122.313427</td>\n",
       "    </tr>\n",
       "    <tr>\n",
       "      <th>2</th>\n",
       "      <td>47.523980</td>\n",
       "      <td>-122.359891</td>\n",
       "    </tr>\n",
       "    <tr>\n",
       "      <th>3</th>\n",
       "      <td>47.654109</td>\n",
       "      <td>-122.337605</td>\n",
       "    </tr>\n",
       "    <tr>\n",
       "      <th>4</th>\n",
       "      <td>47.550620</td>\n",
       "      <td>-122.320135</td>\n",
       "    </tr>\n",
       "  </tbody>\n",
       "</table>\n",
       "</div>"
      ],
      "text/plain": [
       "    latitude   longitude\n",
       "0  47.610819 -122.290816\n",
       "1  47.687801 -122.313427\n",
       "2  47.523980 -122.359891\n",
       "3  47.654109 -122.337605\n",
       "4  47.550620 -122.320135"
      ]
     },
     "execution_count": 20,
     "metadata": {},
     "output_type": "execute_result"
    }
   ],
   "source": [
    "df_geo.head()"
   ]
  },
  {
   "cell_type": "code",
   "execution_count": null,
   "metadata": {},
   "outputs": [],
   "source": [
    "def get_walkscore_url(address, city, zip_code, lat, lon):\n",
    "    \"\"\"\n",
    "    Construct url for Walkscore api call\n",
    "    Input: address, city, and zip_code as strings; lat/lon coords as float\n",
    "    Output: prepared url to request walkscore for address\n",
    "    \"\"\"\n",
    "    api_key = '466d1cb991e8a99345b049d505c6a4a7'\n",
    "    base_url = 'http://api.walkscore.com/score?format=json'\n",
    "    mid_url = 'transit=1&bike=1'\n",
    "    address = 'address=' + '%'.join(address.split())\n",
    "    address = '%20'.join([address, city, 'WA', zip_code])\n",
    "    lat = f'lat={lat}'\n",
    "    lon = f'lon={lon}'\n",
    "    api_key = f'wsapikey={api_key}'\n",
    "    url = '&'.join([base_url, address, lat, lon, mid_url, api_key])\n",
    "    return url\n",
    "\n",
    "\n",
    "def get_walkscores(row):\n",
    "    \"\"\"\n",
    "    Makes api call to Walkscore and extracts bike, walk, and transit scores\n",
    "    Input: dataframe row containing required fields\n",
    "    Output: list containing bike, walk, and transit scores (or nan, if failure)\n",
    "    \"\"\"\n",
    "    fields = ['address1', 'city', 'zip_code', 'latitude', 'longitude']\n",
    "    address, city, zip_code, lat, lon = row[fields]\n",
    "    url = get_walkscore_url(address, city, zip_code, lat, lon)\n",
    "    \n",
    "    try:\n",
    "        r = requests.get(url)\n",
    "        response = json.loads(r.text)\n",
    "\n",
    "        bike_score = response['bike']['score']\n",
    "        walk_score = response['walkscore']\n",
    "        transit_score = response['transit']['score']\n",
    "    except:\n",
    "        return (np.nan, np.nan, np.nan)\n",
    "    return [bike_score, walk_score, transit_score]"
   ]
  },
  {
   "cell_type": "code",
   "execution_count": null,
   "metadata": {},
   "outputs": [],
   "source": [
    "def get_demo_data(path, license_filename, demo_filename):\n",
    "    \"\"\"\n",
    "    Scrapes zip code based demographic data from washington.hometownlocator.com\n",
    "    for all zip codes containing a dispensary found in WSLCB license data\n",
    "    Input: relative path to raw data directory, license data filename, \n",
    "    demographics data filename\n",
    "    Output: saves demographic dataset to csv in raw data directory\n",
    "    \"\"\"\n",
    "    license_filepath = path + license_filename\n",
    "    demo_filepath = path + demo_filename\n",
    "\n",
    "    if os.path.isfile(demo_filepath):\n",
    "        overwrite = input(\n",
    "            '''Demographics file already exists. Scrape data again? y/n\\n \n",
    "            Note: this could take several minutes.''')\n",
    "        if overwrite.lower() != 'y':\n",
    "            return\n",
    "    \n",
    "    license_data = pd.read_excel(license_filepath, sheet_name=2, header=0)\n",
    "    zips = license_data['ZipCode'].astype(str).str[:5].unique()\n",
    "    demographics = pd.DataFrame()\n",
    "    \n",
    "    print(\"Beginning scrape...\")\n",
    "    for zip_code in sorted(zips):\n",
    "        url = f'https://washington.hometownlocator.com/zip-codes/data,zipcode,{zip_code}.cfm'\n",
    "        r = requests.get(url)\n",
    "        if 'table' in r.text:\n",
    "            df0, df1 = pd.read_html(url, index_col=0)[:2]\n",
    "            df0.columns = [str(zip_code)]\n",
    "            df1.columns = [str(zip_code)]\n",
    "            df = pd.concat([df0, df1], axis=0).T.dropna(axis=1)\n",
    "            df.drop(['INCOME', 'HOUSEHOLDS'], axis=1, inplace=True)\n",
    "            demographics = pd.concat([demographics, df])\n",
    "            print('Scraped {}/{} zips. Latest: {}'\n",
    "                  .format(len(demographics), len(zips), zip_code), end='\\r')\n",
    "            sys.stdout.flush()\n",
    "        else:\n",
    "            print(f'\\nNo data found for {zip_code}')\n",
    "        \n",
    "    demographics.to_csv(demo_filepath)\n",
    "    print('Scraped data written to {}'.format(demo_filepath))\n",
    "    return"
   ]
  }
 ],
 "metadata": {
  "kernelspec": {
   "display_name": "metis",
   "language": "python",
   "name": "metis"
  },
  "language_info": {
   "codemirror_mode": {
    "name": "ipython",
    "version": 3
   },
   "file_extension": ".py",
   "mimetype": "text/x-python",
   "name": "python",
   "nbconvert_exporter": "python",
   "pygments_lexer": "ipython3",
   "version": "3.6.8"
  },
  "toc": {
   "base_numbering": 1,
   "nav_menu": {},
   "number_sections": true,
   "sideBar": true,
   "skip_h1_title": false,
   "title_cell": "Table of Contents",
   "title_sidebar": "Contents",
   "toc_cell": false,
   "toc_position": {},
   "toc_section_display": true,
   "toc_window_display": false
  }
 },
 "nbformat": 4,
 "nbformat_minor": 2
}
