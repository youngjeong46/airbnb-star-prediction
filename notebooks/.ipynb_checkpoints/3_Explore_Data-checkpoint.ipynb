{
 "cells": [
  {
   "cell_type": "markdown",
   "metadata": {},
   "source": [
    "# Explore the Data"
   ]
  },
  {
   "cell_type": "code",
   "execution_count": 1,
   "metadata": {},
   "outputs": [],
   "source": [
    "# Imports\n",
    "\n",
    "import pandas as pd\n",
    "\n",
    "import numpy as np\n",
    "import seaborn as sns\n",
    "import os, time, pickle, re, json, requests\n",
    "\n",
    "from sklearn.neighbors import KNeighborsClassifier\n",
    "from sklearn.ensemble import RandomForestClassifier, GradientBoostingClassifier\n",
    "from sklearn.preprocessing import scale\n",
    "from sklearn.model_selection import train_test_split\n",
    "from sklearn.metrics import f1_score, accuracy_score"
   ]
  },
  {
   "cell_type": "code",
   "execution_count": 2,
   "metadata": {},
   "outputs": [],
   "source": [
    "# Helper function\n",
    "def baseline_modeling(data, classifier):\n",
    "    \"\"\"A simple modeling of data using sklearn's classifier\n",
    "    \n",
    "    Arguments\n",
    "    ---------\n",
    "    data: Pandas Dataframe\n",
    "        Dataframe containing observations and features (includes target)\n",
    "    classifier: classifier object (Tree or Ensembles, as they have feature importance data)\n",
    "        Classifier from sklearn librar\n",
    "        \n",
    "    Returns\n",
    "    -------\n",
    "    classifier: classifier object\n",
    "        Classifier fit with the data\n",
    "    feature_importance: Pandas Dataframe\n",
    "        Lists feature importance of the model in decimals, listed in a pandas dataframe\n",
    "    \"\"\"\n",
    "    \n",
    "    y = data['fivestars']\n",
    "    X = pd.get_dummies(data.drop('fivestars',axis=1))\n",
    "    X_train, X_test, y_train, y_test = train_test_split(X, y, test_size=0.3, random_state=42)\n",
    "    X_train = scale(X_train)\n",
    "    X_test = scale(X_test)\n",
    "    # X_train, X_test, y_train, y_test = train_test_split(scaled_data, y, test_size=0.2, random_state=42)\n",
    "    \n",
    "    classifier.fit(X_train, y_train)\n",
    "    print(f'F1 score for training set: %f' % f1_score(classifier.predict(X_train),y_train))\n",
    "    print(f'F1 score for test set: %f' % f1_score(classifier.predict(X_test), y_test))\n",
    "    \n",
    "    feature_importances = pd.DataFrame(classifier.feature_importances_,index = X.columns,\n",
    "                                    columns=['importance']).sort_values('importance', ascending=False)\n",
    "    \n",
    "    return classifier, feature_importances"
   ]
  },
  {
   "cell_type": "markdown",
   "metadata": {},
   "source": [
    "## Import and Fit for a Baseline Metric\n",
    "\n",
    "I used the Gradient Boosting Classifier to establish a baseline. I want to use F1 score because business-wise, it's not feasible to favor precision over recall, or vice versa:\n",
    "\n",
    "1. Low Recall/High Precision - Most of my 5-star predictions are indeed 5-star listings. However, I miss-predict a lot of other listings that are actually 5-star listings. This misclassification can cause the hosts to spend more money in order to take their listings to a 5-star level, when they were already hosting a 5-star listing.\n",
    "\n",
    "2. High Recall/Low Precision - I am able to classify most of the actual 5-star listings as such. However, my predictions also include a lot of listings that aren't actually 5-stars. This might mean the listing may not actually achieve the 5-star ratings needed in order to become SuperHost, costing the host future extra earnings. "
   ]
  },
  {
   "cell_type": "code",
   "execution_count": 3,
   "metadata": {},
   "outputs": [],
   "source": [
    "data = pickle.load(open(\"../data/processed/data_clean_v4_all_everything.pickle\",\"rb\"))"
   ]
  },
  {
   "cell_type": "markdown",
   "metadata": {},
   "source": [
    "Call the helper function to get a baseline F1 Score using Gradient Boosting Classifier:\n",
    "\n",
    "### ----------- Checkpoint 1: Baseline ------------"
   ]
  },
  {
   "cell_type": "code",
   "execution_count": 4,
   "metadata": {},
   "outputs": [
    {
     "name": "stderr",
     "output_type": "stream",
     "text": [
      "/Users/youngjeong/anaconda3/envs/metis/lib/python3.6/site-packages/ipykernel_launcher.py:23: DataConversionWarning: Data with input dtype uint8, int64, float64 were all converted to float64 by the scale function.\n",
      "/Users/youngjeong/anaconda3/envs/metis/lib/python3.6/site-packages/ipykernel_launcher.py:24: DataConversionWarning: Data with input dtype uint8, int64, float64 were all converted to float64 by the scale function.\n"
     ]
    },
    {
     "name": "stdout",
     "output_type": "stream",
     "text": [
      "F1 score for training set: 0.770574\n",
      "F1 score for test set: 0.672522\n"
     ]
    }
   ],
   "source": [
    "gb = GradientBoostingClassifier()\n",
    "gb, feature_importances = baseline_modeling(data, gb)"
   ]
  },
  {
   "cell_type": "markdown",
   "metadata": {},
   "source": [
    "## Feature Engineering 1 - Amenities and others\n",
    "\n",
    "We can look at some feature importance and determine what we can do."
   ]
  },
  {
   "cell_type": "code",
   "execution_count": 5,
   "metadata": {
    "scrolled": false
   },
   "outputs": [
    {
     "data": {
      "text/html": [
       "<div>\n",
       "<style scoped>\n",
       "    .dataframe tbody tr th:only-of-type {\n",
       "        vertical-align: middle;\n",
       "    }\n",
       "\n",
       "    .dataframe tbody tr th {\n",
       "        vertical-align: top;\n",
       "    }\n",
       "\n",
       "    .dataframe thead th {\n",
       "        text-align: right;\n",
       "    }\n",
       "</style>\n",
       "<table border=\"1\" class=\"dataframe\">\n",
       "  <thead>\n",
       "    <tr style=\"text-align: right;\">\n",
       "      <th></th>\n",
       "      <th>importance</th>\n",
       "    </tr>\n",
       "  </thead>\n",
       "  <tbody>\n",
       "    <tr>\n",
       "      <th>host_total_listings_count</th>\n",
       "      <td>0.240761</td>\n",
       "    </tr>\n",
       "    <tr>\n",
       "      <th>number_of_reviews</th>\n",
       "      <td>0.195310</td>\n",
       "    </tr>\n",
       "    <tr>\n",
       "      <th>price</th>\n",
       "      <td>0.051340</td>\n",
       "    </tr>\n",
       "    <tr>\n",
       "      <th>host_since</th>\n",
       "      <td>0.041943</td>\n",
       "    </tr>\n",
       "    <tr>\n",
       "      <th>reviews_per_month</th>\n",
       "      <td>0.031982</td>\n",
       "    </tr>\n",
       "    <tr>\n",
       "      <th>First aid kit</th>\n",
       "      <td>0.027106</td>\n",
       "    </tr>\n",
       "    <tr>\n",
       "      <th>Coffee maker</th>\n",
       "      <td>0.025717</td>\n",
       "    </tr>\n",
       "    <tr>\n",
       "      <th>number_of_reviews_ltm</th>\n",
       "      <td>0.025459</td>\n",
       "    </tr>\n",
       "    <tr>\n",
       "      <th>calendar_updated</th>\n",
       "      <td>0.023707</td>\n",
       "    </tr>\n",
       "    <tr>\n",
       "      <th>host_response_rate</th>\n",
       "      <td>0.020579</td>\n",
       "    </tr>\n",
       "  </tbody>\n",
       "</table>\n",
       "</div>"
      ],
      "text/plain": [
       "                           importance\n",
       "host_total_listings_count    0.240761\n",
       "number_of_reviews            0.195310\n",
       "price                        0.051340\n",
       "host_since                   0.041943\n",
       "reviews_per_month            0.031982\n",
       "First aid kit                0.027106\n",
       "Coffee maker                 0.025717\n",
       "number_of_reviews_ltm        0.025459\n",
       "calendar_updated             0.023707\n",
       "host_response_rate           0.020579"
      ]
     },
     "execution_count": 5,
     "metadata": {},
     "output_type": "execute_result"
    }
   ],
   "source": [
    "feature_importances.head(10)"
   ]
  },
  {
   "cell_type": "markdown",
   "metadata": {},
   "source": [
    "### Engineering Features: Price per room\n",
    "\n",
    "I want to introduce some interaction terms that could prove helpful:\n",
    "\n",
    "- Price/bedrooms = How much you are paying per bedroom/bathroom combo (assume 1 if the listing has no bedroom/bathroom, as a place should be considered as at least 1 room)"
   ]
  },
  {
   "cell_type": "code",
   "execution_count": 6,
   "metadata": {},
   "outputs": [],
   "source": [
    "data[\"bed_bath\"] = data.bedrooms + data.bathrooms"
   ]
  },
  {
   "cell_type": "code",
   "execution_count": 7,
   "metadata": {},
   "outputs": [],
   "source": [
    "data['price_bed'] = np.where(data.bed_bath > 0, data.price/data.bed_bath, data.price)"
   ]
  },
  {
   "cell_type": "code",
   "execution_count": 8,
   "metadata": {},
   "outputs": [],
   "source": [
    "data.drop(columns=[\"bed_bath\"],inplace=True)"
   ]
  },
  {
   "cell_type": "markdown",
   "metadata": {},
   "source": [
    "### ----------- Checkpoint 2: Engr 1 ------------\n",
    "\n",
    "Now we can check if the engineered features helped or caused overfitting by running the Gradient Boosting Classifier again."
   ]
  },
  {
   "cell_type": "code",
   "execution_count": 9,
   "metadata": {},
   "outputs": [
    {
     "name": "stderr",
     "output_type": "stream",
     "text": [
      "/Users/youngjeong/anaconda3/envs/metis/lib/python3.6/site-packages/ipykernel_launcher.py:23: DataConversionWarning: Data with input dtype uint8, int64, float64 were all converted to float64 by the scale function.\n",
      "/Users/youngjeong/anaconda3/envs/metis/lib/python3.6/site-packages/ipykernel_launcher.py:24: DataConversionWarning: Data with input dtype uint8, int64, float64 were all converted to float64 by the scale function.\n"
     ]
    },
    {
     "name": "stdout",
     "output_type": "stream",
     "text": [
      "F1 score for training set: 0.862703\n",
      "F1 score for test set: 0.672578\n"
     ]
    }
   ],
   "source": [
    "gb = GradientBoostingClassifier(learning_rate=0.2, n_estimators=150)\n",
    "gb, feature_importances = baseline_modeling(data, gb)"
   ]
  },
  {
   "cell_type": "markdown",
   "metadata": {},
   "source": [
    "This feature helped our score go up, so we will keep the feature in.\n",
    "\n",
    "### Engineering Features 2: Minimum Cost\n",
    "\n",
    "I want to introduce another interaction term that could prove helpful:\n",
    "\n",
    "- Minimum cost = Price * Minimum Nights + cleaning fee = How much minimum you are expected to pay"
   ]
  },
  {
   "cell_type": "code",
   "execution_count": 10,
   "metadata": {},
   "outputs": [],
   "source": [
    "data[\"minimum_cost\"] = data.price * data.minimum_nights + data.cleaning_fee"
   ]
  },
  {
   "cell_type": "code",
   "execution_count": 11,
   "metadata": {},
   "outputs": [],
   "source": [
    "# data.drop(columns=[\"price_bed\"], inplace=True)"
   ]
  },
  {
   "cell_type": "markdown",
   "metadata": {},
   "source": [
    "Again, check for overfitting:\n",
    "\n",
    "### ----------- Checkpoint 3: Engr 2 ------------"
   ]
  },
  {
   "cell_type": "code",
   "execution_count": 12,
   "metadata": {},
   "outputs": [
    {
     "name": "stderr",
     "output_type": "stream",
     "text": [
      "/Users/youngjeong/anaconda3/envs/metis/lib/python3.6/site-packages/ipykernel_launcher.py:23: DataConversionWarning: Data with input dtype uint8, int64, float64 were all converted to float64 by the scale function.\n",
      "/Users/youngjeong/anaconda3/envs/metis/lib/python3.6/site-packages/ipykernel_launcher.py:24: DataConversionWarning: Data with input dtype uint8, int64, float64 were all converted to float64 by the scale function.\n"
     ]
    },
    {
     "name": "stdout",
     "output_type": "stream",
     "text": [
      "F1 score for training set: 0.856685\n",
      "F1 score for test set: 0.678009\n"
     ]
    }
   ],
   "source": [
    "gb = GradientBoostingClassifier(learning_rate=0.2, n_estimators=150)\n",
    "gb, feature_importances = baseline_modeling(data, gb)"
   ]
  },
  {
   "cell_type": "markdown",
   "metadata": {},
   "source": [
    "Again, the test shows overfitting."
   ]
  },
  {
   "cell_type": "code",
   "execution_count": 13,
   "metadata": {},
   "outputs": [
    {
     "data": {
      "text/html": [
       "<div>\n",
       "<style scoped>\n",
       "    .dataframe tbody tr th:only-of-type {\n",
       "        vertical-align: middle;\n",
       "    }\n",
       "\n",
       "    .dataframe tbody tr th {\n",
       "        vertical-align: top;\n",
       "    }\n",
       "\n",
       "    .dataframe thead th {\n",
       "        text-align: right;\n",
       "    }\n",
       "</style>\n",
       "<table border=\"1\" class=\"dataframe\">\n",
       "  <thead>\n",
       "    <tr style=\"text-align: right;\">\n",
       "      <th></th>\n",
       "      <th>importance</th>\n",
       "    </tr>\n",
       "  </thead>\n",
       "  <tbody>\n",
       "    <tr>\n",
       "      <th>host_total_listings_count</th>\n",
       "      <td>0.173212</td>\n",
       "    </tr>\n",
       "    <tr>\n",
       "      <th>number_of_reviews</th>\n",
       "      <td>0.152072</td>\n",
       "    </tr>\n",
       "    <tr>\n",
       "      <th>host_since</th>\n",
       "      <td>0.054584</td>\n",
       "    </tr>\n",
       "    <tr>\n",
       "      <th>minimum_cost</th>\n",
       "      <td>0.046523</td>\n",
       "    </tr>\n",
       "    <tr>\n",
       "      <th>price_bed</th>\n",
       "      <td>0.042071</td>\n",
       "    </tr>\n",
       "    <tr>\n",
       "      <th>reviews_per_month</th>\n",
       "      <td>0.037398</td>\n",
       "    </tr>\n",
       "    <tr>\n",
       "      <th>bikescore</th>\n",
       "      <td>0.028945</td>\n",
       "    </tr>\n",
       "    <tr>\n",
       "      <th>number_of_reviews_ltm</th>\n",
       "      <td>0.028217</td>\n",
       "    </tr>\n",
       "    <tr>\n",
       "      <th>calendar_updated</th>\n",
       "      <td>0.027680</td>\n",
       "    </tr>\n",
       "    <tr>\n",
       "      <th>availability_90</th>\n",
       "      <td>0.027347</td>\n",
       "    </tr>\n",
       "  </tbody>\n",
       "</table>\n",
       "</div>"
      ],
      "text/plain": [
       "                           importance\n",
       "host_total_listings_count    0.173212\n",
       "number_of_reviews            0.152072\n",
       "host_since                   0.054584\n",
       "minimum_cost                 0.046523\n",
       "price_bed                    0.042071\n",
       "reviews_per_month            0.037398\n",
       "bikescore                    0.028945\n",
       "number_of_reviews_ltm        0.028217\n",
       "calendar_updated             0.027680\n",
       "availability_90              0.027347"
      ]
     },
     "execution_count": 13,
     "metadata": {},
     "output_type": "execute_result"
    }
   ],
   "source": [
    "feature_importances.head(10)"
   ]
  },
  {
   "cell_type": "code",
   "execution_count": 14,
   "metadata": {},
   "outputs": [],
   "source": [
    "data.drop(columns=[\"minimum_cost\"], inplace=True)"
   ]
  },
  {
   "cell_type": "markdown",
   "metadata": {},
   "source": [
    "### Engineering Feature 3: Walkscore per Price"
   ]
  },
  {
   "cell_type": "code",
   "execution_count": 15,
   "metadata": {},
   "outputs": [],
   "source": [
    "data[\"walk_price\"] = data.walkscore * data.price"
   ]
  },
  {
   "cell_type": "code",
   "execution_count": 16,
   "metadata": {},
   "outputs": [
    {
     "name": "stderr",
     "output_type": "stream",
     "text": [
      "/Users/youngjeong/anaconda3/envs/metis/lib/python3.6/site-packages/ipykernel_launcher.py:23: DataConversionWarning: Data with input dtype uint8, int64, float64 were all converted to float64 by the scale function.\n",
      "/Users/youngjeong/anaconda3/envs/metis/lib/python3.6/site-packages/ipykernel_launcher.py:24: DataConversionWarning: Data with input dtype uint8, int64, float64 were all converted to float64 by the scale function.\n"
     ]
    },
    {
     "name": "stdout",
     "output_type": "stream",
     "text": [
      "F1 score for training set: 0.860645\n",
      "F1 score for test set: 0.661597\n"
     ]
    }
   ],
   "source": [
    "gb = GradientBoostingClassifier(learning_rate=0.2, n_estimators=150)\n",
    "gb, feature_importances = baseline_modeling(data, gb)"
   ]
  },
  {
   "cell_type": "code",
   "execution_count": 17,
   "metadata": {},
   "outputs": [],
   "source": [
    "data.drop(columns=[\"walk_price\"],inplace=True)"
   ]
  },
  {
   "cell_type": "code",
   "execution_count": 18,
   "metadata": {},
   "outputs": [],
   "source": [
    "data[\"calendar_availability\"] = data.calendar_updated*data.availability_90"
   ]
  },
  {
   "cell_type": "code",
   "execution_count": 19,
   "metadata": {},
   "outputs": [
    {
     "name": "stderr",
     "output_type": "stream",
     "text": [
      "/Users/youngjeong/anaconda3/envs/metis/lib/python3.6/site-packages/ipykernel_launcher.py:23: DataConversionWarning: Data with input dtype uint8, int64, float64 were all converted to float64 by the scale function.\n",
      "/Users/youngjeong/anaconda3/envs/metis/lib/python3.6/site-packages/ipykernel_launcher.py:24: DataConversionWarning: Data with input dtype uint8, int64, float64 were all converted to float64 by the scale function.\n"
     ]
    },
    {
     "name": "stdout",
     "output_type": "stream",
     "text": [
      "F1 score for training set: 0.860963\n",
      "F1 score for test set: 0.682411\n"
     ]
    }
   ],
   "source": [
    "gb = GradientBoostingClassifier(learning_rate=0.2, n_estimators=150)\n",
    "gb, feature_importances = baseline_modeling(data, gb)"
   ]
  },
  {
   "cell_type": "code",
   "execution_count": 20,
   "metadata": {},
   "outputs": [],
   "source": [
    "pickle.dump(data,open(\"../data/processed/data_EDA_v4_all_everything.pickle\",'wb'))"
   ]
  }
 ],
 "metadata": {
  "kernelspec": {
   "display_name": "metis",
   "language": "python",
   "name": "metis"
  },
  "language_info": {
   "codemirror_mode": {
    "name": "ipython",
    "version": 3
   },
   "file_extension": ".py",
   "mimetype": "text/x-python",
   "name": "python",
   "nbconvert_exporter": "python",
   "pygments_lexer": "ipython3",
   "version": "3.6.8"
  },
  "toc": {
   "base_numbering": 1,
   "nav_menu": {},
   "number_sections": true,
   "sideBar": true,
   "skip_h1_title": true,
   "title_cell": "Table of Contents",
   "title_sidebar": "Contents",
   "toc_cell": false,
   "toc_position": {
    "height": "calc(100% - 180px)",
    "left": "10px",
    "top": "150px",
    "width": "336px"
   },
   "toc_section_display": true,
   "toc_window_display": false
  }
 },
 "nbformat": 4,
 "nbformat_minor": 2
}
